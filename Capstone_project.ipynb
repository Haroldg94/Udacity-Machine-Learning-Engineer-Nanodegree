{
 "metadata": {
  "language_info": {
   "codemirror_mode": {
    "name": "ipython",
    "version": 3
   },
   "file_extension": ".py",
   "mimetype": "text/x-python",
   "name": "python",
   "nbconvert_exporter": "python",
   "pygments_lexer": "ipython3",
   "version": "3.9.2"
  },
  "orig_nbformat": 2,
  "kernelspec": {
   "name": "python392jvsc74a57bd0efbe09f3027aa95fb0277331962940b1740df78aaf57e03ef75ea5c3d146fcc3",
   "display_name": "Python 3.9.2 64-bit ('capstone_env': conda)"
  }
 },
 "nbformat": 4,
 "nbformat_minor": 2,
 "cells": [
  {
   "cell_type": "code",
   "execution_count": 1,
   "metadata": {},
   "outputs": [],
   "source": [
    "import pandas as pd\n",
    "import numpy as np\n",
    "import json"
   ]
  },
  {
   "cell_type": "code",
   "execution_count": 2,
   "metadata": {},
   "outputs": [],
   "source": [
    "# read in the JSOn files\n",
    "portfolio = pd.read_json('data/portfolio.json', orient='records', lines=True)\n",
    "profile = pd.read_json('data/profile.json', orient='records', lines=True)\n",
    "transcript = pd.read_json('data/transcript.json', orient='records', lines=True)"
   ]
  },
  {
   "cell_type": "code",
   "execution_count": 3,
   "metadata": {},
   "outputs": [
    {
     "output_type": "execute_result",
     "data": {
      "text/plain": [
       "   reward                      channels  difficulty  duration     offer_type  \\\n",
       "0      10       [email, mobile, social]          10         7           bogo   \n",
       "1      10  [web, email, mobile, social]          10         5           bogo   \n",
       "2       0          [web, email, mobile]           0         4  informational   \n",
       "3       5          [web, email, mobile]           5         7           bogo   \n",
       "4       5                  [web, email]          20        10       discount   \n",
       "\n",
       "                                 id  \n",
       "0  ae264e3637204a6fb9bb56bc8210ddfd  \n",
       "1  4d5c57ea9a6940dd891ad53e9dbe8da0  \n",
       "2  3f207df678b143eea3cee63160fa8bed  \n",
       "3  9b98b8c7a33c4b65b9aebfe6a799e6d9  \n",
       "4  0b1e1539f2cc45b7b9fa7c272da2e1d7  "
      ],
      "text/html": "<div>\n<style scoped>\n    .dataframe tbody tr th:only-of-type {\n        vertical-align: middle;\n    }\n\n    .dataframe tbody tr th {\n        vertical-align: top;\n    }\n\n    .dataframe thead th {\n        text-align: right;\n    }\n</style>\n<table border=\"1\" class=\"dataframe\">\n  <thead>\n    <tr style=\"text-align: right;\">\n      <th></th>\n      <th>reward</th>\n      <th>channels</th>\n      <th>difficulty</th>\n      <th>duration</th>\n      <th>offer_type</th>\n      <th>id</th>\n    </tr>\n  </thead>\n  <tbody>\n    <tr>\n      <th>0</th>\n      <td>10</td>\n      <td>[email, mobile, social]</td>\n      <td>10</td>\n      <td>7</td>\n      <td>bogo</td>\n      <td>ae264e3637204a6fb9bb56bc8210ddfd</td>\n    </tr>\n    <tr>\n      <th>1</th>\n      <td>10</td>\n      <td>[web, email, mobile, social]</td>\n      <td>10</td>\n      <td>5</td>\n      <td>bogo</td>\n      <td>4d5c57ea9a6940dd891ad53e9dbe8da0</td>\n    </tr>\n    <tr>\n      <th>2</th>\n      <td>0</td>\n      <td>[web, email, mobile]</td>\n      <td>0</td>\n      <td>4</td>\n      <td>informational</td>\n      <td>3f207df678b143eea3cee63160fa8bed</td>\n    </tr>\n    <tr>\n      <th>3</th>\n      <td>5</td>\n      <td>[web, email, mobile]</td>\n      <td>5</td>\n      <td>7</td>\n      <td>bogo</td>\n      <td>9b98b8c7a33c4b65b9aebfe6a799e6d9</td>\n    </tr>\n    <tr>\n      <th>4</th>\n      <td>5</td>\n      <td>[web, email]</td>\n      <td>20</td>\n      <td>10</td>\n      <td>discount</td>\n      <td>0b1e1539f2cc45b7b9fa7c272da2e1d7</td>\n    </tr>\n  </tbody>\n</table>\n</div>"
     },
     "metadata": {},
     "execution_count": 3
    }
   ],
   "source": [
    "portfolio.head()"
   ]
  },
  {
   "cell_type": "code",
   "execution_count": 4,
   "metadata": {},
   "outputs": [
    {
     "output_type": "execute_result",
     "data": {
      "text/plain": [
       "  gender  age                                id  became_member_on    income\n",
       "0   None  118  68be06ca386d4c31939f3a4f0e3dd783          20170212       NaN\n",
       "1      F   55  0610b486422d4921ae7d2bf64640c50b          20170715  112000.0\n",
       "2   None  118  38fe809add3b4fcf9315a9694bb96ff5          20180712       NaN\n",
       "3      F   75  78afa995795e4d85b5d9ceeca43f5fef          20170509  100000.0\n",
       "4   None  118  a03223e636434f42ac4c3df47e8bac43          20170804       NaN"
      ],
      "text/html": "<div>\n<style scoped>\n    .dataframe tbody tr th:only-of-type {\n        vertical-align: middle;\n    }\n\n    .dataframe tbody tr th {\n        vertical-align: top;\n    }\n\n    .dataframe thead th {\n        text-align: right;\n    }\n</style>\n<table border=\"1\" class=\"dataframe\">\n  <thead>\n    <tr style=\"text-align: right;\">\n      <th></th>\n      <th>gender</th>\n      <th>age</th>\n      <th>id</th>\n      <th>became_member_on</th>\n      <th>income</th>\n    </tr>\n  </thead>\n  <tbody>\n    <tr>\n      <th>0</th>\n      <td>None</td>\n      <td>118</td>\n      <td>68be06ca386d4c31939f3a4f0e3dd783</td>\n      <td>20170212</td>\n      <td>NaN</td>\n    </tr>\n    <tr>\n      <th>1</th>\n      <td>F</td>\n      <td>55</td>\n      <td>0610b486422d4921ae7d2bf64640c50b</td>\n      <td>20170715</td>\n      <td>112000.0</td>\n    </tr>\n    <tr>\n      <th>2</th>\n      <td>None</td>\n      <td>118</td>\n      <td>38fe809add3b4fcf9315a9694bb96ff5</td>\n      <td>20180712</td>\n      <td>NaN</td>\n    </tr>\n    <tr>\n      <th>3</th>\n      <td>F</td>\n      <td>75</td>\n      <td>78afa995795e4d85b5d9ceeca43f5fef</td>\n      <td>20170509</td>\n      <td>100000.0</td>\n    </tr>\n    <tr>\n      <th>4</th>\n      <td>None</td>\n      <td>118</td>\n      <td>a03223e636434f42ac4c3df47e8bac43</td>\n      <td>20170804</td>\n      <td>NaN</td>\n    </tr>\n  </tbody>\n</table>\n</div>"
     },
     "metadata": {},
     "execution_count": 4
    }
   ],
   "source": [
    "profile.head()"
   ]
  },
  {
   "cell_type": "code",
   "execution_count": 5,
   "metadata": {},
   "outputs": [
    {
     "output_type": "execute_result",
     "data": {
      "text/plain": [
       "                             person           event  \\\n",
       "0  78afa995795e4d85b5d9ceeca43f5fef  offer received   \n",
       "1  a03223e636434f42ac4c3df47e8bac43  offer received   \n",
       "2  e2127556f4f64592b11af22de27a7932  offer received   \n",
       "3  8ec6ce2a7e7949b1bf142def7d0e0586  offer received   \n",
       "4  68617ca6246f4fbc85e91a2a49552598  offer received   \n",
       "\n",
       "                                              value  time  \n",
       "0  {'offer id': '9b98b8c7a33c4b65b9aebfe6a799e6d9'}     0  \n",
       "1  {'offer id': '0b1e1539f2cc45b7b9fa7c272da2e1d7'}     0  \n",
       "2  {'offer id': '2906b810c7d4411798c6938adc9daaa5'}     0  \n",
       "3  {'offer id': 'fafdcd668e3743c1bb461111dcafc2a4'}     0  \n",
       "4  {'offer id': '4d5c57ea9a6940dd891ad53e9dbe8da0'}     0  "
      ],
      "text/html": "<div>\n<style scoped>\n    .dataframe tbody tr th:only-of-type {\n        vertical-align: middle;\n    }\n\n    .dataframe tbody tr th {\n        vertical-align: top;\n    }\n\n    .dataframe thead th {\n        text-align: right;\n    }\n</style>\n<table border=\"1\" class=\"dataframe\">\n  <thead>\n    <tr style=\"text-align: right;\">\n      <th></th>\n      <th>person</th>\n      <th>event</th>\n      <th>value</th>\n      <th>time</th>\n    </tr>\n  </thead>\n  <tbody>\n    <tr>\n      <th>0</th>\n      <td>78afa995795e4d85b5d9ceeca43f5fef</td>\n      <td>offer received</td>\n      <td>{'offer id': '9b98b8c7a33c4b65b9aebfe6a799e6d9'}</td>\n      <td>0</td>\n    </tr>\n    <tr>\n      <th>1</th>\n      <td>a03223e636434f42ac4c3df47e8bac43</td>\n      <td>offer received</td>\n      <td>{'offer id': '0b1e1539f2cc45b7b9fa7c272da2e1d7'}</td>\n      <td>0</td>\n    </tr>\n    <tr>\n      <th>2</th>\n      <td>e2127556f4f64592b11af22de27a7932</td>\n      <td>offer received</td>\n      <td>{'offer id': '2906b810c7d4411798c6938adc9daaa5'}</td>\n      <td>0</td>\n    </tr>\n    <tr>\n      <th>3</th>\n      <td>8ec6ce2a7e7949b1bf142def7d0e0586</td>\n      <td>offer received</td>\n      <td>{'offer id': 'fafdcd668e3743c1bb461111dcafc2a4'}</td>\n      <td>0</td>\n    </tr>\n    <tr>\n      <th>4</th>\n      <td>68617ca6246f4fbc85e91a2a49552598</td>\n      <td>offer received</td>\n      <td>{'offer id': '4d5c57ea9a6940dd891ad53e9dbe8da0'}</td>\n      <td>0</td>\n    </tr>\n  </tbody>\n</table>\n</div>"
     },
     "metadata": {},
     "execution_count": 5
    }
   ],
   "source": [
    "transcript.head()"
   ]
  },
  {
   "cell_type": "code",
   "execution_count": 6,
   "metadata": {},
   "outputs": [
    {
     "output_type": "execute_result",
     "data": {
      "text/plain": [
       "array(['offer received', 'offer viewed', 'transaction', 'offer completed'],\n",
       "      dtype=object)"
      ]
     },
     "metadata": {},
     "execution_count": 6
    }
   ],
   "source": [
    "# Getting the unique values of events in the transcript DF\n",
    "transcript.event.unique()"
   ]
  },
  {
   "source": [
    "As we can see, the events can be divided in two groups, on the one hand we have different states of the offer, and on the other hand we have the transaction information, considering this I'm going to create a DataFrame for each of the mencioned groups"
   ],
   "cell_type": "markdown",
   "metadata": {}
  },
  {
   "cell_type": "code",
   "execution_count": 7,
   "metadata": {},
   "outputs": [
    {
     "output_type": "execute_result",
     "data": {
      "text/plain": [
       "                                 person        event  \\\n",
       "12654  02c083884c7d45b39cc68e1314fec56c  transaction   \n",
       "12657  9fa9ae8f57894cc9a3b8a9bbe0fc1b2f  transaction   \n",
       "12659  54890f68699049c2a04d415abc25e717  transaction   \n",
       "12670  b2f1cd155b864803ad8334cdf13c4bd2  transaction   \n",
       "12671  fe97aa22dd3e48c8b143116a8403dd52  transaction   \n",
       "\n",
       "                                value  time  \n",
       "12654  {'amount': 0.8300000000000001}     0  \n",
       "12657               {'amount': 34.56}     0  \n",
       "12659               {'amount': 13.23}     0  \n",
       "12670               {'amount': 19.51}     0  \n",
       "12671               {'amount': 18.97}     0  "
      ],
      "text/html": "<div>\n<style scoped>\n    .dataframe tbody tr th:only-of-type {\n        vertical-align: middle;\n    }\n\n    .dataframe tbody tr th {\n        vertical-align: top;\n    }\n\n    .dataframe thead th {\n        text-align: right;\n    }\n</style>\n<table border=\"1\" class=\"dataframe\">\n  <thead>\n    <tr style=\"text-align: right;\">\n      <th></th>\n      <th>person</th>\n      <th>event</th>\n      <th>value</th>\n      <th>time</th>\n    </tr>\n  </thead>\n  <tbody>\n    <tr>\n      <th>12654</th>\n      <td>02c083884c7d45b39cc68e1314fec56c</td>\n      <td>transaction</td>\n      <td>{'amount': 0.8300000000000001}</td>\n      <td>0</td>\n    </tr>\n    <tr>\n      <th>12657</th>\n      <td>9fa9ae8f57894cc9a3b8a9bbe0fc1b2f</td>\n      <td>transaction</td>\n      <td>{'amount': 34.56}</td>\n      <td>0</td>\n    </tr>\n    <tr>\n      <th>12659</th>\n      <td>54890f68699049c2a04d415abc25e717</td>\n      <td>transaction</td>\n      <td>{'amount': 13.23}</td>\n      <td>0</td>\n    </tr>\n    <tr>\n      <th>12670</th>\n      <td>b2f1cd155b864803ad8334cdf13c4bd2</td>\n      <td>transaction</td>\n      <td>{'amount': 19.51}</td>\n      <td>0</td>\n    </tr>\n    <tr>\n      <th>12671</th>\n      <td>fe97aa22dd3e48c8b143116a8403dd52</td>\n      <td>transaction</td>\n      <td>{'amount': 18.97}</td>\n      <td>0</td>\n    </tr>\n  </tbody>\n</table>\n</div>"
     },
     "metadata": {},
     "execution_count": 7
    }
   ],
   "source": [
    "# DataFrame containing the transaction information\n",
    "transaction_df = transcript[transcript.event == 'transaction']\n",
    "transaction_df.head()"
   ]
  },
  {
   "cell_type": "code",
   "execution_count": 8,
   "metadata": {},
   "outputs": [
    {
     "output_type": "execute_result",
     "data": {
      "text/plain": [
       "                             person           event  \\\n",
       "0  78afa995795e4d85b5d9ceeca43f5fef  offer received   \n",
       "1  a03223e636434f42ac4c3df47e8bac43  offer received   \n",
       "2  e2127556f4f64592b11af22de27a7932  offer received   \n",
       "3  8ec6ce2a7e7949b1bf142def7d0e0586  offer received   \n",
       "4  68617ca6246f4fbc85e91a2a49552598  offer received   \n",
       "\n",
       "                                              value  time  \n",
       "0  {'offer id': '9b98b8c7a33c4b65b9aebfe6a799e6d9'}     0  \n",
       "1  {'offer id': '0b1e1539f2cc45b7b9fa7c272da2e1d7'}     0  \n",
       "2  {'offer id': '2906b810c7d4411798c6938adc9daaa5'}     0  \n",
       "3  {'offer id': 'fafdcd668e3743c1bb461111dcafc2a4'}     0  \n",
       "4  {'offer id': '4d5c57ea9a6940dd891ad53e9dbe8da0'}     0  "
      ],
      "text/html": "<div>\n<style scoped>\n    .dataframe tbody tr th:only-of-type {\n        vertical-align: middle;\n    }\n\n    .dataframe tbody tr th {\n        vertical-align: top;\n    }\n\n    .dataframe thead th {\n        text-align: right;\n    }\n</style>\n<table border=\"1\" class=\"dataframe\">\n  <thead>\n    <tr style=\"text-align: right;\">\n      <th></th>\n      <th>person</th>\n      <th>event</th>\n      <th>value</th>\n      <th>time</th>\n    </tr>\n  </thead>\n  <tbody>\n    <tr>\n      <th>0</th>\n      <td>78afa995795e4d85b5d9ceeca43f5fef</td>\n      <td>offer received</td>\n      <td>{'offer id': '9b98b8c7a33c4b65b9aebfe6a799e6d9'}</td>\n      <td>0</td>\n    </tr>\n    <tr>\n      <th>1</th>\n      <td>a03223e636434f42ac4c3df47e8bac43</td>\n      <td>offer received</td>\n      <td>{'offer id': '0b1e1539f2cc45b7b9fa7c272da2e1d7'}</td>\n      <td>0</td>\n    </tr>\n    <tr>\n      <th>2</th>\n      <td>e2127556f4f64592b11af22de27a7932</td>\n      <td>offer received</td>\n      <td>{'offer id': '2906b810c7d4411798c6938adc9daaa5'}</td>\n      <td>0</td>\n    </tr>\n    <tr>\n      <th>3</th>\n      <td>8ec6ce2a7e7949b1bf142def7d0e0586</td>\n      <td>offer received</td>\n      <td>{'offer id': 'fafdcd668e3743c1bb461111dcafc2a4'}</td>\n      <td>0</td>\n    </tr>\n    <tr>\n      <th>4</th>\n      <td>68617ca6246f4fbc85e91a2a49552598</td>\n      <td>offer received</td>\n      <td>{'offer id': '4d5c57ea9a6940dd891ad53e9dbe8da0'}</td>\n      <td>0</td>\n    </tr>\n  </tbody>\n</table>\n</div>"
     },
     "metadata": {},
     "execution_count": 8
    }
   ],
   "source": [
    "# Dataframe containing the different states of the offer\n",
    "offer_events_df = transcript[transcript.event != 'transaction']\n",
    "offer_events_df.head()"
   ]
  },
  {
   "cell_type": "code",
   "execution_count": 9,
   "metadata": {},
   "outputs": [
    {
     "output_type": "stream",
     "name": "stderr",
     "text": [
      "C:\\Anaconda3\\envs\\capstone_env\\lib\\site-packages\\pandas\\core\\indexing.py:1597: SettingWithCopyWarning: \nA value is trying to be set on a copy of a slice from a DataFrame.\nTry using .loc[row_indexer,col_indexer] = value instead\n\nSee the caveats in the documentation: https://pandas.pydata.org/pandas-docs/stable/user_guide/indexing.html#returning-a-view-versus-a-copy\n  self.obj[key] = value\nC:\\Anaconda3\\envs\\capstone_env\\lib\\site-packages\\pandas\\core\\indexing.py:1676: SettingWithCopyWarning: \nA value is trying to be set on a copy of a slice from a DataFrame.\nTry using .loc[row_indexer,col_indexer] = value instead\n\nSee the caveats in the documentation: https://pandas.pydata.org/pandas-docs/stable/user_guide/indexing.html#returning-a-view-versus-a-copy\n  self._setitem_single_column(ilocs[0], value, pi)\n"
     ]
    }
   ],
   "source": [
    "offer_events_df.loc[:,'Value_keys'] = offer_events_df.value.apply(lambda x: list(x.keys())[0])"
   ]
  },
  {
   "cell_type": "code",
   "execution_count": 10,
   "metadata": {},
   "outputs": [
    {
     "output_type": "execute_result",
     "data": {
      "text/plain": [
       "array(['offer id', 'offer_id'], dtype=object)"
      ]
     },
     "metadata": {},
     "execution_count": 10
    }
   ],
   "source": [
    "offer_events_df['Value_keys'].unique()"
   ]
  },
  {
   "source": [
    "Extracting the values of the value column dictionaries considering the two unique keys <code>'offer id'</code> and <code>'offer_id'</code> for the <code>offer_events_df</code>, and the <code>'amount'</code> key for the <code>transaction_df</code>; and putting them in a new column"
   ],
   "cell_type": "markdown",
   "metadata": {}
  },
  {
   "cell_type": "code",
   "execution_count": 11,
   "metadata": {},
   "outputs": [
    {
     "output_type": "execute_result",
     "data": {
      "text/plain": [
       "                             person           event  \\\n",
       "0  78afa995795e4d85b5d9ceeca43f5fef  offer received   \n",
       "1  a03223e636434f42ac4c3df47e8bac43  offer received   \n",
       "2  e2127556f4f64592b11af22de27a7932  offer received   \n",
       "3  8ec6ce2a7e7949b1bf142def7d0e0586  offer received   \n",
       "4  68617ca6246f4fbc85e91a2a49552598  offer received   \n",
       "\n",
       "                                              value  time Value_keys  \\\n",
       "0  {'offer id': '9b98b8c7a33c4b65b9aebfe6a799e6d9'}     0   offer id   \n",
       "1  {'offer id': '0b1e1539f2cc45b7b9fa7c272da2e1d7'}     0   offer id   \n",
       "2  {'offer id': '2906b810c7d4411798c6938adc9daaa5'}     0   offer id   \n",
       "3  {'offer id': 'fafdcd668e3743c1bb461111dcafc2a4'}     0   offer id   \n",
       "4  {'offer id': '4d5c57ea9a6940dd891ad53e9dbe8da0'}     0   offer id   \n",
       "\n",
       "                           offer_id  \n",
       "0  9b98b8c7a33c4b65b9aebfe6a799e6d9  \n",
       "1  0b1e1539f2cc45b7b9fa7c272da2e1d7  \n",
       "2  2906b810c7d4411798c6938adc9daaa5  \n",
       "3  fafdcd668e3743c1bb461111dcafc2a4  \n",
       "4  4d5c57ea9a6940dd891ad53e9dbe8da0  "
      ],
      "text/html": "<div>\n<style scoped>\n    .dataframe tbody tr th:only-of-type {\n        vertical-align: middle;\n    }\n\n    .dataframe tbody tr th {\n        vertical-align: top;\n    }\n\n    .dataframe thead th {\n        text-align: right;\n    }\n</style>\n<table border=\"1\" class=\"dataframe\">\n  <thead>\n    <tr style=\"text-align: right;\">\n      <th></th>\n      <th>person</th>\n      <th>event</th>\n      <th>value</th>\n      <th>time</th>\n      <th>Value_keys</th>\n      <th>offer_id</th>\n    </tr>\n  </thead>\n  <tbody>\n    <tr>\n      <th>0</th>\n      <td>78afa995795e4d85b5d9ceeca43f5fef</td>\n      <td>offer received</td>\n      <td>{'offer id': '9b98b8c7a33c4b65b9aebfe6a799e6d9'}</td>\n      <td>0</td>\n      <td>offer id</td>\n      <td>9b98b8c7a33c4b65b9aebfe6a799e6d9</td>\n    </tr>\n    <tr>\n      <th>1</th>\n      <td>a03223e636434f42ac4c3df47e8bac43</td>\n      <td>offer received</td>\n      <td>{'offer id': '0b1e1539f2cc45b7b9fa7c272da2e1d7'}</td>\n      <td>0</td>\n      <td>offer id</td>\n      <td>0b1e1539f2cc45b7b9fa7c272da2e1d7</td>\n    </tr>\n    <tr>\n      <th>2</th>\n      <td>e2127556f4f64592b11af22de27a7932</td>\n      <td>offer received</td>\n      <td>{'offer id': '2906b810c7d4411798c6938adc9daaa5'}</td>\n      <td>0</td>\n      <td>offer id</td>\n      <td>2906b810c7d4411798c6938adc9daaa5</td>\n    </tr>\n    <tr>\n      <th>3</th>\n      <td>8ec6ce2a7e7949b1bf142def7d0e0586</td>\n      <td>offer received</td>\n      <td>{'offer id': 'fafdcd668e3743c1bb461111dcafc2a4'}</td>\n      <td>0</td>\n      <td>offer id</td>\n      <td>fafdcd668e3743c1bb461111dcafc2a4</td>\n    </tr>\n    <tr>\n      <th>4</th>\n      <td>68617ca6246f4fbc85e91a2a49552598</td>\n      <td>offer received</td>\n      <td>{'offer id': '4d5c57ea9a6940dd891ad53e9dbe8da0'}</td>\n      <td>0</td>\n      <td>offer id</td>\n      <td>4d5c57ea9a6940dd891ad53e9dbe8da0</td>\n    </tr>\n  </tbody>\n</table>\n</div>"
     },
     "metadata": {},
     "execution_count": 11
    }
   ],
   "source": [
    "offer_events_df.loc[:,'offer_id'] = offer_events_df.value.apply(lambda x: x.get('offer id') if x.get('offer id') is not None else x.get('offer_id'))\n",
    "offer_events_df.head()"
   ]
  },
  {
   "cell_type": "code",
   "execution_count": 12,
   "metadata": {},
   "outputs": [
    {
     "output_type": "stream",
     "name": "stderr",
     "text": [
      "C:\\Anaconda3\\envs\\capstone_env\\lib\\site-packages\\pandas\\core\\indexing.py:1597: SettingWithCopyWarning: \nA value is trying to be set on a copy of a slice from a DataFrame.\nTry using .loc[row_indexer,col_indexer] = value instead\n\nSee the caveats in the documentation: https://pandas.pydata.org/pandas-docs/stable/user_guide/indexing.html#returning-a-view-versus-a-copy\n  self.obj[key] = value\nC:\\Anaconda3\\envs\\capstone_env\\lib\\site-packages\\pandas\\core\\indexing.py:1676: SettingWithCopyWarning: \nA value is trying to be set on a copy of a slice from a DataFrame.\nTry using .loc[row_indexer,col_indexer] = value instead\n\nSee the caveats in the documentation: https://pandas.pydata.org/pandas-docs/stable/user_guide/indexing.html#returning-a-view-versus-a-copy\n  self._setitem_single_column(ilocs[0], value, pi)\n"
     ]
    },
    {
     "output_type": "execute_result",
     "data": {
      "text/plain": [
       "                                 person        event  \\\n",
       "12654  02c083884c7d45b39cc68e1314fec56c  transaction   \n",
       "12657  9fa9ae8f57894cc9a3b8a9bbe0fc1b2f  transaction   \n",
       "12659  54890f68699049c2a04d415abc25e717  transaction   \n",
       "12670  b2f1cd155b864803ad8334cdf13c4bd2  transaction   \n",
       "12671  fe97aa22dd3e48c8b143116a8403dd52  transaction   \n",
       "\n",
       "                                value  time  amount  \n",
       "12654  {'amount': 0.8300000000000001}     0    0.83  \n",
       "12657               {'amount': 34.56}     0   34.56  \n",
       "12659               {'amount': 13.23}     0   13.23  \n",
       "12670               {'amount': 19.51}     0   19.51  \n",
       "12671               {'amount': 18.97}     0   18.97  "
      ],
      "text/html": "<div>\n<style scoped>\n    .dataframe tbody tr th:only-of-type {\n        vertical-align: middle;\n    }\n\n    .dataframe tbody tr th {\n        vertical-align: top;\n    }\n\n    .dataframe thead th {\n        text-align: right;\n    }\n</style>\n<table border=\"1\" class=\"dataframe\">\n  <thead>\n    <tr style=\"text-align: right;\">\n      <th></th>\n      <th>person</th>\n      <th>event</th>\n      <th>value</th>\n      <th>time</th>\n      <th>amount</th>\n    </tr>\n  </thead>\n  <tbody>\n    <tr>\n      <th>12654</th>\n      <td>02c083884c7d45b39cc68e1314fec56c</td>\n      <td>transaction</td>\n      <td>{'amount': 0.8300000000000001}</td>\n      <td>0</td>\n      <td>0.83</td>\n    </tr>\n    <tr>\n      <th>12657</th>\n      <td>9fa9ae8f57894cc9a3b8a9bbe0fc1b2f</td>\n      <td>transaction</td>\n      <td>{'amount': 34.56}</td>\n      <td>0</td>\n      <td>34.56</td>\n    </tr>\n    <tr>\n      <th>12659</th>\n      <td>54890f68699049c2a04d415abc25e717</td>\n      <td>transaction</td>\n      <td>{'amount': 13.23}</td>\n      <td>0</td>\n      <td>13.23</td>\n    </tr>\n    <tr>\n      <th>12670</th>\n      <td>b2f1cd155b864803ad8334cdf13c4bd2</td>\n      <td>transaction</td>\n      <td>{'amount': 19.51}</td>\n      <td>0</td>\n      <td>19.51</td>\n    </tr>\n    <tr>\n      <th>12671</th>\n      <td>fe97aa22dd3e48c8b143116a8403dd52</td>\n      <td>transaction</td>\n      <td>{'amount': 18.97}</td>\n      <td>0</td>\n      <td>18.97</td>\n    </tr>\n  </tbody>\n</table>\n</div>"
     },
     "metadata": {},
     "execution_count": 12
    }
   ],
   "source": [
    "transaction_df.loc[:,'amount'] = transaction_df.value.apply(lambda x: x.get('amount'))\n",
    "transaction_df.head()"
   ]
  },
  {
   "cell_type": "code",
   "execution_count": 13,
   "metadata": {},
   "outputs": [
    {
     "output_type": "stream",
     "name": "stderr",
     "text": [
      "C:\\Anaconda3\\envs\\capstone_env\\lib\\site-packages\\pandas\\core\\frame.py:4308: SettingWithCopyWarning: \nA value is trying to be set on a copy of a slice from a DataFrame\n\nSee the caveats in the documentation: https://pandas.pydata.org/pandas-docs/stable/user_guide/indexing.html#returning-a-view-versus-a-copy\n  return super().drop(\n"
     ]
    }
   ],
   "source": [
    "# Dropping the columns that I don't need anymore \n",
    "offer_events_df.drop(['value','Value_keys'], axis = 1, inplace = True)\n",
    "transaction_df.drop(['value'], axis = 1, inplace = True) "
   ]
  },
  {
   "cell_type": "code",
   "execution_count": null,
   "metadata": {},
   "outputs": [],
   "source": []
  }
 ]
}